{
 "cells": [
  {
   "cell_type": "markdown",
   "metadata": {
    "deletable": false,
    "editable": false,
    "nbgrader": {
     "checksum": "eb7b4aead061b877d021ad2db3241535",
     "grade": false,
     "grade_id": "cell-7baeadb055f406e7",
     "locked": true,
     "schema_version": 1,
     "solution": false
    }
   },
   "source": [
    "# Introduction to Python for engineers\n",
    "\n",
    "\n",
    "Around 7 years ago I have come across this beautiful language and fell in love with it! It helped me with my classes, my PhD career, my teaching, and many other things. \n",
    "\n",
    "Just as every spoken language consists of words and sentences, a programming language consists of variables and operators. We first will learn what they are, and secondly we will learn why we need them. Then we will start constructing our first \"sentences\" - in other words - writing programs to solve our engineering problems.\n",
    "\n",
    "Here are the main elements that we will learn today.\n",
    "\n",
    "1. Python syntaxes\n",
    "2. Arithmetic operations in Python\n",
    "3. Conditionals\n",
    "4. Loops\n",
    "5. Functions\n",
    "\n",
    "These are the basic elements of every language. Don't consider them to be your goal, these are the tools. The best thing you can do with tools is to use them. So go ahead and start solving the problems right away! \n"
   ]
  },
  {
   "cell_type": "markdown",
   "metadata": {
    "deletable": false,
    "editable": false,
    "nbgrader": {
     "checksum": "dd1fd1d34d6d17f87ca19d125c1ff6c5",
     "grade": false,
     "grade_id": "cell-0b401507bc1094cc",
     "locked": true,
     "schema_version": 1,
     "solution": false
    }
   },
   "source": [
    "## Variables and arithmetic operations\n",
    "\n"
   ]
  },
  {
   "cell_type": "code",
   "execution_count": null,
   "metadata": {},
   "outputs": [],
   "source": [
    "# the first thing that you will need in Python are variables\n",
    "# You can assign a value to them and perform arithmetic operations with them\n",
    "a = 1\n",
    "b = 2"
   ]
  },
  {
   "cell_type": "code",
   "execution_count": null,
   "metadata": {},
   "outputs": [],
   "source": [
    "# If you want to see their values you can use the `print()` function\n",
    "\n",
    "print(a)"
   ]
  },
  {
   "cell_type": "code",
   "execution_count": null,
   "metadata": {},
   "outputs": [],
   "source": [
    "#here is how to perform simple arithmetic operations with those variables\n",
    "\n",
    "c = a - b \n",
    "print(c)"
   ]
  },
  {
   "cell_type": "code",
   "execution_count": null,
   "metadata": {},
   "outputs": [],
   "source": [
    "# going further\n",
    "d = a*b\n",
    "e = a/b\n",
    "f = 9**(0.5)\n",
    "# if you want to print several variables, just list them with a comma\n",
    "print(d, e, f)"
   ]
  },
  {
   "cell_type": "code",
   "execution_count": null,
   "metadata": {},
   "outputs": [],
   "source": [
    "#NOTE:\n",
    "\n",
    "#python variables can have different type:\n",
    "# integer:\n",
    "a1 = 1\n",
    "# float\n",
    "f1 = 1.0\n",
    "#string\n",
    "s1 = \"1\"\n",
    "\n",
    "#although for us it is the same number, these are different variables for Python\n",
    "print(type(a1))\n",
    "print(type(f1))\n",
    "print(type(s1))\n"
   ]
  },
  {
   "cell_type": "markdown",
   "metadata": {
    "deletable": false,
    "editable": false,
    "nbgrader": {
     "checksum": "09ad27ca2626c43c2cc9cc6a3bba73bc",
     "grade": false,
     "grade_id": "cell-b2627d7bd0750226",
     "locked": true,
     "schema_version": 1,
     "solution": false
    }
   },
   "source": [
    "### Project 1\n",
    "\n",
    "Enough discussion lets do our first little project. Lets calculate the area of a triangle with sides (x = 3, y = 4, z = 5) using the formula:\n",
    "\n",
    "1. Using Phales's theorem $A = \\sqrt{s\\cdot(s-x)(x-y)(s-z)}$, where $s = x + y + z$\n"
   ]
  },
  {
   "cell_type": "code",
   "execution_count": null,
   "metadata": {},
   "outputs": [],
   "source": [
    "# First lets assign values to variables \n",
    "\n",
    "x = 3\n",
    "y = 4\n",
    "z = 5\n",
    "\n",
    "#lets calculate the perimeter of the triangle \n",
    "s = (x+y+z)/2.0\n",
    "\n",
    "# now using s, lets calculate the area\n",
    "A = (s*(s-x)*(s-y)*(s-z))**0.5"
   ]
  },
  {
   "cell_type": "code",
   "execution_count": null,
   "metadata": {},
   "outputs": [],
   "source": [
    "print(A)"
   ]
  },
  {
   "cell_type": "markdown",
   "metadata": {
    "deletable": false,
    "editable": false,
    "nbgrader": {
     "checksum": "c10354285c4b10af744c524136614f8d",
     "grade": false,
     "grade_id": "cell-b164acc710e3c406",
     "locked": true,
     "schema_version": 1,
     "solution": false
    }
   },
   "source": [
    "### Project 2\n",
    "\n",
    "Calculate the area of a triangle if its base $b = 30$, its height $h = 40$"
   ]
  },
  {
   "cell_type": "code",
   "execution_count": null,
   "metadata": {
    "deletable": false,
    "nbgrader": {
     "checksum": "8549086dbafae57a8ce062a6df581e71",
     "grade": false,
     "grade_id": "cell-d86341091dae4c1a",
     "locked": false,
     "schema_version": 1,
     "solution": true
    }
   },
   "outputs": [],
   "source": [
    "def area():\n",
    "    \n",
    "    # YOUR CODE HERE\n",
    "    raise NotImplementedError()\n"
   ]
  },
  {
   "cell_type": "code",
   "execution_count": null,
   "metadata": {
    "deletable": false,
    "editable": false,
    "nbgrader": {
     "checksum": "08a94c887536cf4348b1542f42a45c05",
     "grade": true,
     "grade_id": "cell-c8dec45d13b114cc",
     "locked": true,
     "points": 1,
     "schema_version": 1,
     "solution": false
    }
   },
   "outputs": [],
   "source": [
    "from nose.tools import assert_equal\n",
    "assert_equal(area(),600)"
   ]
  },
  {
   "cell_type": "markdown",
   "metadata": {
    "deletable": false,
    "editable": false,
    "nbgrader": {
     "checksum": "cd84f6628b5c715ae465871d19e17485",
     "grade": false,
     "grade_id": "cell-1b2c6677dc5ea5da",
     "locked": true,
     "schema_version": 1,
     "solution": false
    }
   },
   "source": [
    "### Project 3\n",
    "\n",
    "Calculate the area of a trapezoid if its base $b1 = 5$, its height $h = 2$ and the length of the top side $a = 3$."
   ]
  },
  {
   "cell_type": "code",
   "execution_count": null,
   "metadata": {
    "deletable": false,
    "nbgrader": {
     "checksum": "ac3f5bb665e59f210183c1b008ca1e5f",
     "grade": false,
     "grade_id": "cell-61200295d52138a8",
     "locked": false,
     "schema_version": 1,
     "solution": true
    }
   },
   "outputs": [],
   "source": [
    "def area_trapz():\n",
    "\n",
    "    #area of a trapz\n",
    "    a1 = 3\n",
    "    b1  = 5\n",
    "    h = 2\n",
    "    \n",
    "    # YOUR CODE HERE\n",
    "    raise NotImplementedError()"
   ]
  },
  {
   "cell_type": "code",
   "execution_count": null,
   "metadata": {
    "deletable": false,
    "editable": false,
    "nbgrader": {
     "checksum": "eef9f5e9c6a4c3fd0e7d2d4cdd15fdef",
     "grade": true,
     "grade_id": "cell-1a7bd9ce0076c6f5",
     "locked": true,
     "points": 1,
     "schema_version": 1,
     "solution": false
    }
   },
   "outputs": [],
   "source": [
    "assert_equal(area_trapz(),8)"
   ]
  },
  {
   "cell_type": "markdown",
   "metadata": {
    "deletable": false,
    "editable": false,
    "nbgrader": {
     "checksum": "34e5ee276025a5255d92fcac7bb9a6c5",
     "grade": false,
     "grade_id": "cell-7d911317bbb410bd",
     "locked": true,
     "schema_version": 1,
     "solution": false
    }
   },
   "source": [
    "### Project 4\n",
    "\n",
    "Lets get a problem from the world closer to engineering.\n",
    "Calculate the pressure of two moles of ideal gas, at temperature $T = 27 C$, and volume $V = 1 litre$\n",
    "\n",
    "Take zero Kelvin as being $-273$ degrees Celcius and NOT $-273.15$ degrees Celcius"
   ]
  },
  {
   "cell_type": "code",
   "execution_count": null,
   "metadata": {
    "deletable": false,
    "nbgrader": {
     "checksum": "a108d756979c1b5e83d81d9602e2f465",
     "grade": false,
     "grade_id": "cell-ecd7a114d1a4c62c",
     "locked": false,
     "schema_version": 1,
     "solution": true
    }
   },
   "outputs": [],
   "source": [
    "#CHBE problem\n",
    "V = 1 #l\n",
    "R = 8.31 #J/(mol K)\n",
    "T = 27 #C\n",
    "n = 1\n",
    "\n",
    "def two_moles():\n",
    "\n",
    "    # YOUR CODE HERE\n",
    "    raise NotImplementedError()"
   ]
  },
  {
   "cell_type": "code",
   "execution_count": null,
   "metadata": {
    "deletable": false,
    "editable": false,
    "nbgrader": {
     "checksum": "06716c23c4f7fcc64c2a0c41aca2f19e",
     "grade": true,
     "grade_id": "cell-fdfeea03e310d99f",
     "locked": true,
     "points": 1,
     "schema_version": 1,
     "solution": false
    }
   },
   "outputs": [],
   "source": [
    "assert_equal(two_moles(),2493000)"
   ]
  },
  {
   "cell_type": "markdown",
   "metadata": {
    "deletable": false,
    "editable": false,
    "nbgrader": {
     "checksum": "8a2451cd5dc1e953144937f507f81270",
     "grade": false,
     "grade_id": "cell-9e66c0c0cf7e85bc",
     "locked": true,
     "schema_version": 1,
     "solution": false
    }
   },
   "source": [
    "## Conditionals\n",
    "\n",
    "Sometimes we want to compare values and proceed if only a certain condition is met. In these cases we use `if ... elseif ... else` statements.\n",
    "But before we start, let me introduce you to another data type - Boolean.\n",
    "It can have only two values `True, False`, but it is crucial for the design of many important algorithms in the modern computer science.\n"
   ]
  },
  {
   "cell_type": "code",
   "execution_count": null,
   "metadata": {},
   "outputs": [],
   "source": [
    "# the boolean operators can be a result of conditional operations \n",
    "# 2 >= 1 = True\n",
    "# For example\n",
    "if 1>2:\n",
    "    print(\"This is false\")"
   ]
  },
  {
   "cell_type": "code",
   "execution_count": null,
   "metadata": {},
   "outputs": [],
   "source": [
    "if 2<1:\n",
    "    print(\"I am in the if\")\n",
    "elif 0>2:\n",
    "    print(\"I am in the elif\")\n",
    "else:\n",
    "    print(\"I am in else\")\n"
   ]
  },
  {
   "cell_type": "code",
   "execution_count": null,
   "metadata": {},
   "outputs": [],
   "source": [
    "# Boolean operators can be \"multiplied/added\" with and/or\n",
    "# True and False = False\n",
    "# True and True = True\n",
    "# False and False = False\n",
    "# True or False = True\n",
    "# True or True = True\n",
    "# False or False = False\n",
    "\n",
    "if (True) or (False):\n",
    "    print(\"I will no go here\")\n",
    "if (True) and (False):\n",
    "    print(\"I will no go here\")\n",
    "    "
   ]
  },
  {
   "cell_type": "markdown",
   "metadata": {},
   "source": [
    "One reason why I love Python is its flexibility. Unlike Matlab that comes with lots of packages pre-installed and important, he core of of Python doesn't have virtually anything.\n",
    "To get the full power of Python we have to import libraries that we will need.\n",
    "To do that we use the `import` operator.\n",
    "\n",
    "`import random` imports the library for generating random numbers.\n"
   ]
  },
  {
   "cell_type": "code",
   "execution_count": null,
   "metadata": {},
   "outputs": [],
   "source": [
    "#random things\n",
    "import random\n",
    "r = random.randint(1,10)\n",
    "print(r)"
   ]
  },
  {
   "cell_type": "markdown",
   "metadata": {
    "deletable": false,
    "editable": false,
    "nbgrader": {
     "checksum": "377ecb1abef467b91db9168ef5102d87",
     "grade": false,
     "grade_id": "cell-dff4c14a278d45ab",
     "locked": true,
     "schema_version": 1,
     "solution": false
    }
   },
   "source": [
    "### Project 5\n",
    "\n",
    "Imagine you play a game of dice with your professor. We will call him Dr. Vikram. You pick a random number and compare it with Dr. Vikram's number which is `5`. If the difference between your number and Dr. Vikram's number is not larger than 1 then Dr. Vikram wins, if the difference is greater than 1 but not larger than 2, then you win! In all of other cases you noone wins. Your job is to write a program to simulate this game."
   ]
  },
  {
   "cell_type": "code",
   "execution_count": null,
   "metadata": {
    "deletable": false,
    "nbgrader": {
     "checksum": "d7b394c82a1ccc82505df954747e7e9f",
     "grade": true,
     "grade_id": "cell-599bbbcdd28b7ae1",
     "locked": false,
     "points": 1,
     "schema_version": 1,
     "solution": true
    }
   },
   "outputs": [],
   "source": [
    "import random\n",
    "r = random.randint(1,10)\n",
    "print(r)\n",
    "\n",
    "vikram_number = 5\n",
    "\n",
    "\n",
    "if (vikram_number - r)<=1:\n",
    "     print(\"vikram wins\")\n",
    "        \n",
    "# YOUR CODE HERE\n",
    "raise NotImplementedError()"
   ]
  },
  {
   "cell_type": "markdown",
   "metadata": {},
   "source": [
    "## Lists and loops\n",
    "\n",
    "By this stage, we have learned the basics of Python: variables, arithmetic operations, conditionals. However, sometimes we want to group data and explore a set of parameters, e.g. a set of pressure values in the tube. What "
   ]
  },
  {
   "cell_type": "code",
   "execution_count": null,
   "metadata": {},
   "outputs": [],
   "source": [
    "#lists\n",
    "\n",
    "a_list = [1.0, 2.0, 3.0, 4.0]\n",
    "print(a_list)"
   ]
  },
  {
   "cell_type": "code",
   "execution_count": null,
   "metadata": {},
   "outputs": [],
   "source": [
    "# list numbering starts from 0 and goes until N-1\n",
    "# to access its first element we use \n",
    "a_list[0]\n",
    "# the third\n",
    "a_list[2]\n",
    "# the 4th\n",
    "a_list[3]\n",
    "# another way to get the last element is to use `-1`\n",
    "a_list[-1]\n",
    "# as you could have guessed, the second last element is [-2]\n",
    "a_list[-2]\n",
    "\n",
    "print(\"second last element = \", a_list[-2])"
   ]
  },
  {
   "cell_type": "code",
   "execution_count": null,
   "metadata": {},
   "outputs": [],
   "source": [
    "# There are cool ways to access parts of an array:\n",
    "# e.g. all the elements starting from the second one\n",
    "a_list[1:]"
   ]
  },
  {
   "cell_type": "markdown",
   "metadata": {},
   "source": [
    "### Loops\n",
    "\n",
    "Now, to systematically access elements of a list we need to use loops. Python has two types of loops: `for` which goes through the elements of a list (actually they are generators in Python3, but lets not get too bookwarmy here) and `while` loop, but I won't mention it here for now."
   ]
  },
  {
   "cell_type": "code",
   "execution_count": null,
   "metadata": {},
   "outputs": [],
   "source": [
    "# Lets print all of the elemenet of the a_list \n",
    "for i in a_list:\n",
    "    print(i)"
   ]
  },
  {
   "cell_type": "code",
   "execution_count": null,
   "metadata": {},
   "outputs": [],
   "source": [
    "# What if I want to print the values of the a_list squared\n",
    "for i in a_list:\n",
    "    print(i**2)    "
   ]
  },
  {
   "cell_type": "code",
   "execution_count": null,
   "metadata": {},
   "outputs": [],
   "source": [
    "# to get the length of the list we use the len function\n",
    "len(a_list)"
   ]
  },
  {
   "cell_type": "code",
   "execution_count": null,
   "metadata": {},
   "outputs": [],
   "source": [
    "# another way to work with loops is to go over its elements \n",
    "# for this we need to generate a list of indices\n",
    "for i in range(len(a_list)):\n",
    "    print(i)"
   ]
  },
  {
   "cell_type": "markdown",
   "metadata": {
    "deletable": false,
    "editable": false,
    "nbgrader": {
     "checksum": "1f8cd1890830b5ce94717e5d9abac769",
     "grade": false,
     "grade_id": "cell-60be9f03d53b865c",
     "locked": true,
     "schema_version": 1,
     "solution": false
    }
   },
   "source": [
    "### Project 6  \n",
    "\n",
    "Do you remember Project 4, where we had to calculate the pressure of an ideal gas at certain temperature? Now I have a list of temperatures `t_list = [27, 60, 100, 150, 200]` and I want to calculate a list of pressures `P_list` corresponding to those temperatures. I remind that temperatures here are in `C`, there are two moles of gas, and volume of the vessel $V = 1 litre$\"."
   ]
  },
  {
   "cell_type": "markdown",
   "metadata": {},
   "source": [
    "## Functions\n",
    "\n",
    "Ok ... hang in there! We are almost there!\n",
    "\n",
    "Lets get familiar with Functions.\n",
    "\n",
    "Why do we need them?\n",
    "\n",
    "Well ... sometimes we want to separate blocks of code into a block of its own. For that we use functions.\n"
   ]
  },
  {
   "cell_type": "code",
   "execution_count": null,
   "metadata": {},
   "outputs": [],
   "source": [
    "# Here is how we define Python functions\n",
    "\n",
    "def name_of_a_func(input_param):\n",
    "    print(\"myparam = \", input_param)\n",
    "    return input_param\n",
    "\n",
    "# here is how to call it\n",
    "\n",
    "b = name_of_a_func(2)\n",
    "print(b)"
   ]
  },
  {
   "cell_type": "code",
   "execution_count": null,
   "metadata": {},
   "outputs": [],
   "source": [
    "# lets do a little project\n",
    "# lets write a function that converts inches to cm (1 inch = 2.54 cm)\n",
    "\n",
    "def inch_2_cm(param_inch):\n",
    "    return param_inch*2.54\n",
    "\n",
    "inch_2_cm(12)"
   ]
  },
  {
   "cell_type": "code",
   "execution_count": null,
   "metadata": {},
   "outputs": [],
   "source": [
    "# Now lets write a function that convert temperature from degrees centigrade to Farenheit\n",
    "#Tf = 1.8*Tc + 32 \n",
    "\n",
    "def C_to_F(Tc):\n",
    "    return Tc*1.8 + 32.\n",
    "\n",
    "# lets call the function\n",
    "C_to_F(0)"
   ]
  },
  {
   "cell_type": "markdown",
   "metadata": {
    "deletable": false,
    "editable": false,
    "nbgrader": {
     "checksum": "d04e51d9710b49fa3a898e8104d559a6",
     "grade": false,
     "grade_id": "cell-576b5b1848fa9b1e",
     "locked": true,
     "schema_version": 1,
     "solution": false
    }
   },
   "source": [
    "### Project 8\n",
    "\n",
    "Now lets do something that will require almost all of the elements that we have learned today.\n",
    "Lets calculate ... Fibonacci sequence! I remind you a Fibbonacci sequence \n",
    "\n",
    "$F_{n}=F_{n-1}+F_{n-2}$\n",
    "with seed values: \n",
    "$F_{1}=0, F_{2}=1$\n",
    "\n",
    "Lets write a function that calculates n-th element of the Fibbonacci sequence."
   ]
  },
  {
   "cell_type": "code",
   "execution_count": null,
   "metadata": {
    "deletable": false,
    "nbgrader": {
     "checksum": "fa9107672c335bb76cfaeefc1722e4f0",
     "grade": false,
     "grade_id": "cell-4719ec84e590e75b",
     "locked": false,
     "schema_version": 1,
     "solution": true
    }
   },
   "outputs": [],
   "source": [
    "nterm = 10\n",
    "def Fib_sum(nterm):\n",
    "#     f_sum \n",
    "#     f_sum = 0 + 1+ 1 + 2 + 3 ...\n",
    "# if nterm = 0 => f_sum = 0\n",
    "# if nterm = 1 => f_sum = 1\n",
    "# nterm>1 => f_sum = sum (i =0, 1 ....[(n-1)+(n-2)])\n",
    "\n",
    "# YOUR CODE HERE\n",
    "raise NotImplementedError()"
   ]
  },
  {
   "cell_type": "code",
   "execution_count": null,
   "metadata": {
    "deletable": false,
    "editable": false,
    "nbgrader": {
     "checksum": "413fc09ec6d5d901e64ca206dc5d15ef",
     "grade": true,
     "grade_id": "cell-8418e848732a296b",
     "locked": true,
     "points": 1,
     "schema_version": 1,
     "solution": false
    }
   },
   "outputs": [],
   "source": [
    "assert_equal(Fib_sum(10),87)"
   ]
  },
  {
   "cell_type": "markdown",
   "metadata": {},
   "source": [
    "## Bibliography:\n",
    "\n",
    "\n",
    "http://www.science.uwaterloo.ca/~cchieh/cact/c120/idealgas.html\n",
    "\n",
    "https://en.wikipedia.org/wiki/Fibonacci_number"
   ]
  }
 ],
 "metadata": {
  "kernelspec": {
   "display_name": "Python 3",
   "language": "python",
   "name": "python3"
  },
  "language_info": {
   "codemirror_mode": {
    "name": "ipython",
    "version": 3
   },
   "file_extension": ".py",
   "mimetype": "text/x-python",
   "name": "python",
   "nbconvert_exporter": "python",
   "pygments_lexer": "ipython3",
   "version": "3.6.4"
  }
 },
 "nbformat": 4,
 "nbformat_minor": 2
}
