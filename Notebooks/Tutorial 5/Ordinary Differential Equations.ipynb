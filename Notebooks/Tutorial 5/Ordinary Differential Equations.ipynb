{
 "cells": [
  {
   "cell_type": "markdown",
   "metadata": {},
   "source": [
    "# Ordinary Differential Equations\n",
    "\n",
    "Differential equations are systems whose variables change with time. Mathematically, differentials are functions that contain derivatives of itself. When these systems are integrated, they provide analytical  functions that are dependent with time. Integration of differentials can be performed by calculus, or numerically. \n",
    "\n",
    "INSERT image here)\n",
    "\n",
    "Ordinary differential equations (ODES) are equations that have a single dependent variables. Partial differential equations are equations that are dependent on 2 or more variables. Furthermore, the order of a differential equation is characterized by the highest derivative of an independent variable. \n",
    "\n",
    "Biological cell growth is a first order differential that describes the exponential increase of biomass concentration  (X) accumulation over time (assuming $ \\mu _g  $  is constant ). \n",
    "\n",
    "\n",
    "$$ \\frac{dX}{dt} = \\mu_g X  $$\n",
    "\n",
    "The Navier-Stokes equations in contrast, are 2nd order partial differentials describing particle position of a fluid as a function of the derivatives of speed, sheer, time and, pressure. \n",
    "\n",
    "$$ \\rho \\big( \\frac{du}{dt} +u \\frac{du}{dx} + v \\frac{dv}{dy} + w \\frac{dw}{dz} \\big) = - \\frac{dP}{dx} + \\mu \\big( \\frac{d^2u}{dx^2} + \\frac{d^2v}{dy^2} +  \\frac{d^2w}{dz^2}    \\big)  $$ \n",
    "\n",
    "The scope of this tutorial focuses on  first order, ordinary differential equations. \n",
    "\n"
   ]
  },
  {
   "cell_type": "markdown",
   "metadata": {},
   "source": [
    "When ODE's are solved, some have an analytical solution. For example, solving the Biomass growth equation gives this analytical solution.\n",
    "\n",
    "$$ X = X_0 e^{\\mu _g (t-t_0)} $$\n",
    "\n",
    "Where $ X_0 $  and $ t_0 $  are initial conditions of the cell concentration and lag time.  \n",
    "\n",
    "If you have worked with numerical methods in Excel, you may have come across solving differentials by using this form:\n",
    "\n",
    "\n",
    "$$  \\frac{dX}{dt} = \\mu_g X$$\n",
    "\n",
    "$$ \\frac{X_{i+1}-X_i}{t_{i+1} - t{i}} = \\mu_g X_i  $$\n",
    "\n",
    "$$ X_{i+1}  =   X_{i}+ \\mu _g X_i  \\Delta t $$ \n",
    "\n",
    "\n",
    "This form of discretizing is the basis of numerical methods for ODE's and are called *single step* or *Runge Kutta* methods.\n",
    "\n",
    "$$ Value_{new} = Value_{old} + slope*stepsize  $$  \n",
    "\n",
    "$$ y_{i+1}  = y_i + \\phi h$$\n",
    "\n",
    "Well studied methods have minimized the error in the $ \\phi$  term to provide highly accurate ODE integrators. The following sections show you the difference between an analytical solution and a basic ODE solver. "
   ]
  },
  {
   "cell_type": "markdown",
   "metadata": {},
   "source": [
    "## Comparing Analytical solutions  with Numerical Solver\n",
    "\n",
    "Using the Cellular biomass equation as a test, we observe the efficacy of the simplest Runge kutta method.\n",
    "$$ X_{i+1}  =   X_{i}+ \\mu _g X_i  \\Delta t $$ \n",
    "and compare it with the known analytical solution. \n",
    "$$ X = X_0 e^{\\mu _g (t-t_0)} $$\n",
    "\n",
    "As we know that the smaller the stepsize, the more accurate the solver, we observe the difference between a solution presented with a stepsize of 10 and 100. The following code illustrates this difference and is very useful for simple implementations such as use in Excel."
   ]
  },
  {
   "cell_type": "code",
   "execution_count": 2,
   "metadata": {},
   "outputs": [
    {
     "data": {
      "text/plain": [
       "<matplotlib.legend.Legend at 0x7fe766b018d0>"
      ]
     },
     "execution_count": 2,
     "metadata": {},
     "output_type": "execute_result"
    },
    {
     "data": {
      "image/png": "[encoded data removed]",
      "text/plain": [
       "<matplotlib.figure.Figure at 0x7fe790e8a470>"
      ]
     },
     "metadata": {},
     "output_type": "display_data"
    }
   ],
   "source": [
    "import matplotlib.pyplot as plt \n",
    "import numpy as np\n",
    "from scipy import integrate\n",
    "%matplotlib inline\n",
    "\n",
    "y0 = 0.1 \n",
    "ug = 0.5 \n",
    "tot = 12.5 \n",
    "stepsize = 10\n",
    "\n",
    "\n",
    "## using simple RK method\n",
    "t = np.linspace(0,tot,stepsize) # creating a time vector\n",
    "t2 = np.linspace(0,tot,stepsize*10) # creating a time vector with many more timesteps\n",
    "dt = t[1]-t[0] # establishing dt\n",
    "dt2 = t2[1]-t2[0] # establishing dt2\n",
    "y = np.zeros(len(t)) # creating a Cell density vector \n",
    "y1 = np.zeros(len(t2)) # creating a Cell density vector \n",
    "\n",
    "y[0] = y0\n",
    "y1[0] = y0\n",
    "##### Creating the differential integration with 10 stepsize and the analytical solution\n",
    "for i in range (1, len(t)):\n",
    "    y[i] = y[i-1] + ug*y[i-1]*dt\n",
    "    X = np.exp(ug*(t))*y0  #analytical solution\n",
    "##### Creating the differential integration with 100 stepsize\n",
    "for i in range (1, len(t2)):\n",
    "    y1[i] = y1[i-1] + ug*y1[i-1]*dt2\n",
    "    \n",
    "# plotting both in comparison\n",
    "\n",
    "plt.xlabel('time,h')\n",
    "plt.ylabel('Cell density (g/L)')\n",
    "plt.title ('Comparing Analytical solution to RK')\n",
    "plt.plot(t,y,'-x',label='Numerical with 10 timesteps')\n",
    "plt.plot(t2,y1,'-og',label='Numerical with 100 timesteps')\n",
    "plt.plot(t,X,'-or',label = 'Analytical')\n",
    "plt.legend()"
   ]
  },
  {
   "cell_type": "markdown",
   "metadata": {},
   "source": [
    "We can see from the graph above, that earlier values both numerical solutions are very close to the actual solution. As the stepsizes increase, the value approach that of the analytical solution though there is still an offset. In a more complicated system, this offset may be much larger than that presented here. \n",
    "\n",
    "More advanced ODE solvers are used to eliminate this offset (e.g ode45). We will not learn to code these more advanced sovlers and rather, we will learn how to implement them into the equations we want to analyze."
   ]
  },
  {
   "cell_type": "markdown",
   "metadata": {},
   "source": [
    "## Example of a single ODE: \n",
    "\n",
    "Suppose Ace Chemical Engineering (ACE) has a 100 L tank that has 50 g/L of NaCl. An inlet stream flows at 15 L/min and has a concentration of 2.5 g/L. ACE wants to empty the tank at 15L/min while keeping the inlet flow rate constant. How many minutes will it take for the tank to reach 30 g/L? \n"
   ]
  },
  {
   "cell_type": "markdown",
   "metadata": {},
   "source": [
    "The concentration balance with no reaction is written out as:\n",
    "\n",
    "$$  V\\frac{dC}{dt} = Q_{in}C_{in} - Q_{out}C_{out} $$  Where $ C_{out}  = C $ \n",
    "\n",
    "The known values are substituted in and the formula is rearranged to isolate $\\frac{dC}{dt} $\n",
    "\n",
    "$$ \\frac{dC}{dt} = \\frac{15*2.5}{100} -\\frac{15*C}{100}$$\n",
    "\n",
    "This can now be put into OdeInt to obtain a solution.\n",
    "\n",
    "OdeInt has the following syntax: \n",
    "\n",
    "> integrate.odeint(function,inital_condition,time_vector)\n",
    "\n",
    "Where the \"function\" arguement is an actual python function returning us the change in the value desired. In this case the function returns us the change in concentration at timestep $t_i$. odeint  returns an array of values that is equal in size to the time vector."
   ]
  },
  {
   "cell_type": "code",
   "execution_count": 3,
   "metadata": {},
   "outputs": [
    {
     "data": {
      "text/plain": [
       "<matplotlib.text.Text at 0x7fe766b92f60>"
      ]
     },
     "execution_count": 3,
     "metadata": {},
     "output_type": "execute_result"
    },
    {
     "data": {
      "image/png": "[encoded data removed]",
      "text/plain": [
       "<matplotlib.figure.Figure at 0x7fe79059e780>"
      ]
     },
     "metadata": {},
     "output_type": "display_data"
    }
   ],
   "source": [
    "############Constants for the Differential equation\n",
    "V = 100 # L \n",
    "Q = 15 #flow in and out\n",
    "\n",
    "########### Intial conditions and vectors for time\n",
    "time_scale =40\n",
    "t = np.linspace(0,time_scale,1000) # Time vector is implemented\n",
    "C0 = 50 # inital condition of concentration in g/L\n",
    "\n",
    "###########function for the differential equation\n",
    "def dcdt(C,t):\n",
    "    return (Q/V*2.5-Q/V*C)\n",
    "\n",
    "########### Implementing the ODE solver and storing the solution as a vector\n",
    "sol  = integrate.odeint(dcdt,C0,t)\n",
    "\n",
    "\n",
    "# print(t)\n",
    "plt.plot(t,sol,label=('concentration'))\n",
    "plt.axis([0 ,42,-5,100])\n",
    "plt.legend()\n",
    "plt.xlabel('Time,min')\n",
    "plt.ylabel('Concentration, g/L')\n"
   ]
  },
  {
   "cell_type": "code",
   "execution_count": 4,
   "metadata": {},
   "outputs": [
    {
     "name": "stdout",
     "output_type": "stream",
     "text": [
      "(array([40, 41, 42, 43]), array([0, 0, 0, 0]))\n",
      "[ 39.85584786  39.63216078  39.40981316  39.18879699]\n",
      "It will take approximately 1.6 minutes to reach 40 g/L\n"
     ]
    }
   ],
   "source": [
    "#rudimentarily, the time that it will take to reach 40 g/L is presented here.\n",
    "h = np.where((sol>=39) & (sol<=40))\n",
    "print (h)\n",
    "print(sol[h])\n",
    "print(\"It will take approximately {} minutes to reach 40 g/L\".format(h[0][0]*time_scale/len(t)))"
   ]
  },
  {
   "cell_type": "markdown",
   "metadata": {},
   "source": [
    "From this example, we can see that the concentration drops following an exponential curve. This can be easily shown through an analytical solution in the form of $$ C = C_0 *\\exp{(t-t_0)} $$ However, this is a simplistic case that ignores the change of volume of the tank. This is largely in part due to the constant volume operation that ACE is employing. Note: the axis of the graph above is set to reflect the answer in the next part"
   ]
  },
  {
   "cell_type": "markdown",
   "metadata": {},
   "source": [
    "## Example of a system of ODEs:\n",
    "\n",
    "\n",
    "Now suppose ACE wants to begin draining this tank while further diluting the system. To accomplish this, they introduce another inlet stream of pure water at __10 L/min__ (total of __25 L/min__ in) and open the outlet stream such that it flows at __30L/min__. Now, how long will it take for the tank to drain? What will the concentration profile look like? \n",
    "\n",
    "Now this is an interesting case as the volume is no longer constant and must be taken into account. Analytically, this can be done through linear algebra and eigenvectors/eigenvalues. \n",
    "\n",
    "The volume portion is rather easy as\n",
    "$$ \\frac{dV}{dt} = \\sum{Q_{in}}-\\sum{Q_{out}} $$ \n",
    "From the given information, the change in volume per minute is simply $$ 25 - 30  = -5\\frac{L}{min}$$\n",
    "Thus in 20 minutes, the tank will be empty. \n",
    "\n",
    "\n",
    "But now, the concentration equation is more difficult. Starting from the concentration balance again, ommiting the stream of pure water (Cin = 0 ) and rearranging\n",
    "$$ \\frac{dC}{dt} = \\frac{15*2.5}{V} -\\frac{15*C}{V}$$\n",
    "\n",
    "To answer this, we will take advantage of ```odeint's``` ability to take in arrays of ODEs to make a system of ODE's\n",
    "\n",
    "\n",
    "From before, \n",
    "> integrate.odeint(function,inital_condition,time_vector)\n",
    "\n",
    "This time, our function arguements will take both Volume and concentration and return both differentials back. Keep in mind that the function will need these values inside array objects and so instead of inputting variables, array positions are used. \n",
    "\n",
    "In the following code for the differentials, the input arguement y is a vector containing  the   __concentration__ and __volume__. In essence, ```y[0]``` is the concentration, ```y[1]``` is the Volume.\n",
    "\n",
    "\n",
    "now, the differentials returned are in the order of $\\frac{dC}{dt}$ and $\\frac{dV}{dt}$ i.e. __dydt[0] = change in concentration__ and __dydt[1] = change in volume__ "
   ]
  },
  {
   "cell_type": "code",
   "execution_count": 5,
   "metadata": {
    "collapsed": true
   },
   "outputs": [],
   "source": [
    "def tank_Concentration(y,t):\n",
    "    Q_in1 = 15\n",
    "    Q_in2 = 10\n",
    "    Q_out = 30\n",
    "    Cin_1 = 2.5\n",
    "    Cin_2 = 0\n",
    "    \n",
    "    \"\"\"This function outputs the following values in this order:\n",
    "    1. the change in concentration C per unit time t\n",
    "    2. the change in volume V per unit time t\"\"\"\n",
    "    dydt = np.zeros_like(y)\n",
    "    dydt[0] = (Q_in1 * Cin_1)/y[1]  + (Q_in2 * Cin_2)/y[1] - (Q_out*y[0])/y[1]\n",
    "    dydt[1] = Q_in1 + Q_in2 - Q_out\n",
    "    return dydt\n"
   ]
  },
  {
   "cell_type": "markdown",
   "metadata": {},
   "source": [
    "The condition are then implemented into the same form as the first example using odeint and a solution vector is obtained then plotted.\n",
    "\n",
    "Note that the solution vector (sol) is in the order of the differential function order (concentration and then volume). \n"
   ]
  },
  {
   "cell_type": "code",
   "execution_count": 6,
   "metadata": {},
   "outputs": [
    {
     "data": {
      "text/plain": [
       "<matplotlib.text.Text at 0x7fe766a08748>"
      ]
     },
     "execution_count": 6,
     "metadata": {},
     "output_type": "execute_result"
    },
    {
     "data": {
      "image/png": "[encoded data removed]",
      "text/plain": [
       "<matplotlib.figure.Figure at 0x7fe797246e48>"
      ]
     },
     "metadata": {},
     "output_type": "display_data"
    }
   ],
   "source": [
    "y0 = [50,100] #initial conditions array\n",
    "time_scale =40 \n",
    "t = np.linspace(0,time_scale,1000) # minutes \n",
    "sol = integrate.odeint(tank_Concentration,y0,t)\n",
    "lineObjects = plt.plot(t,sol)\n",
    "\n",
    "\n",
    "plt.axis([0 ,42,-5,100])\n",
    "plt.legend(iter(lineObjects), ('concentration', 'volume'))\n",
    "plt.xlabel('Time,min')\n",
    "plt.ylabel('Concentration, g/L and Volume,L')"
   ]
  },
  {
   "cell_type": "markdown",
   "metadata": {},
   "source": [
    "We can see that the concentration of the tank still follows a similar curve and that the volume of the tank steadily decreases. Even with the axis in both axis the same, we can check to see if there is a difference in thechange in concentration. "
   ]
  },
  {
   "cell_type": "code",
   "execution_count": 7,
   "metadata": {},
   "outputs": [
    {
     "name": "stdout",
     "output_type": "stream",
     "text": [
      "(array([ 19,  20, 300, 301, 302, 303, 304]), array([0, 0, 1, 1, 1, 1, 1]))\n",
      "[ 39.87975966  39.39989287  39.93993994  39.73973974  39.53953954\n",
      "  39.33933934  39.13913914]\n",
      "It will take approximately 0.76 minutes to reach 40 g/L\n"
     ]
    }
   ],
   "source": [
    "\n",
    "#rudimentarily, the time that it will take to reach 40 g/L is presented here.\n",
    "h = np.where((sol>=39) & (sol<=40))\n",
    "print (h)\n",
    "print(sol[h])\n",
    "print(\"It will take approximately {} minutes to reach 40 g/L\".format(h[0][0]*time_scale/len(t)))"
   ]
  },
  {
   "cell_type": "markdown",
   "metadata": {},
   "source": [
    "This is sensible as there is more water diluting the feed stream."
   ]
  },
  {
   "cell_type": "markdown",
   "metadata": {},
   "source": [
    "## Going Further :\n",
    "\n",
    "- change both the C_in concentrations to 60, what happens to the concentration?\n",
    "- change both the C_in concentrations to 60, with the net flow rate equal to 0; what happens to the concentration?\n",
    "- change both the C_in concentrations to 60, with the net flow rate equal to -10; what happens to the concentration?\n",
    "- replicate the results in example 1 by varying the parameters of the flow conditions."
   ]
  },
  {
   "cell_type": "code",
   "execution_count": null,
   "metadata": {
    "collapsed": true
   },
   "outputs": [],
   "source": []
  }
 ],
 "metadata": {
  "kernelspec": {
   "display_name": "Python 3",
   "language": "python",
   "name": "python3"
  },
  "language_info": {
   "codemirror_mode": {
    "name": "ipython",
    "version": 3
   },
   "file_extension": ".py",
   "mimetype": "text/x-python",
   "name": "python",
   "nbconvert_exporter": "python",
   "pygments_lexer": "ipython3",
   "version": "3.6.1"
  }
 },
 "nbformat": 4,
 "nbformat_minor": 2
}
