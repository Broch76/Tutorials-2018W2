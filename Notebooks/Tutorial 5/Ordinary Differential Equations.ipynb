{
 "cells": [
  {
   "cell_type": "markdown",
   "metadata": {},
   "source": [
    "# Ordinary Differential Equations\n",
    "\n",
    "Differential equations are systems whose variables change with time. Mathematically, differentials are functions that contain derivatives of itself. When these systems are integrated, they provide analytical  functions that are dependent with time. Integration of differentials can be performed by calculus, or numerically. \n",
    "\n",
    "INSERT image here)\n",
    "\n",
    "Ordinary differential equations (ODES) are equations that have a single dependent variables. Partial differential equations are equations that are dependent on 2 or more variables. Furthermore, the order of a differential equation is characterized by the highest derivative of an independent variable. \n",
    "\n",
    "Biological cell growth is a first order differential that describes the exponential increase of biomass concentration  (X) accumulation over time (assuming $ \\mu _g  $  is constant ). \n",
    "\n",
    "\n",
    "$$ \\frac{dX}{dt} = \\mu_g X  $$\n",
    "\n",
    "The Navier-Stokes equations in contrast, are 2nd order partial differentials describing particle position of a fluid as a function of the derivatives of speed, sheer, time and, pressure. \n",
    "\n",
    "$$ \\rho \\big( \\frac{du}{dt} +u \\frac{du}{dx} + v \\frac{dv}{dy} + w \\frac{dw}{dz} \\big) = - \\frac{dP}{dx} + \\mu \\big( \\frac{d^2u}{dx^2} + \\frac{d^2v}{dy^2} +  \\frac{d^2w}{dz^2}    \\big)  $$ \n",
    "\n",
    "The scope of this tutorial focuses on  first order, ordinary differential equations. \n",
    "\n"
   ]
  },
  {
   "cell_type": "markdown",
   "metadata": {},
   "source": [
    "When ODE's are solved, some have an analytical solution. For example, solving the Biomass growth equation gives this analytical solution.\n",
    "\n",
    "$$ X = X_0 e^{\\mu _g (t-t_0)} $$\n",
    "\n",
    "Where $ X_0 $  and $ t_0 $  are initial conditions of the cell concentration and lag time.  \n",
    "\n",
    "If you have worked with numerical methods in Excel, you may have come across solving differentials by using this form:\n",
    "\n",
    "\n",
    "$$  \\frac{dX}{dt} = \\mu_g X$$\n",
    "\n",
    "$$ \\frac{X_{i+1}-X_i}{t_{i+1} - t{i}} = \\mu_g X_i  $$\n",
    "\n",
    "$$ X_{i+1}  =   X_{i}+ \\mu _g X_i  \\Delta t $$ \n",
    "\n",
    "\n",
    "This form of discretizing is the basis of numerical methods for ODE's and are called *single step* or *Runge Kutta* methods.\n",
    "\n",
    "$$ Value_{new} = Value_{old} + slope*stepsize  $$  \n",
    "\n",
    "$$ y_{i+1}  = y_i + \\phi h$$\n",
    "\n",
    "Well studied methods have minimized the error in the phi term to provide highly accurate ODE integrators. "
   ]
  },
  {
   "cell_type": "markdown",
   "metadata": {},
   "source": [
    "## Comparing Analytical solutions  with Numerical Solver\n",
    "\n",
    "Be\n",
    "\n"
   ]
  },
  {
   "cell_type": "code",
   "execution_count": 2,
   "metadata": {},
   "outputs": [
    {
     "data": {
      "text/plain": [
       "<matplotlib.legend.Legend at 0x7f94cf8942e8>"
      ]
     },
     "execution_count": 2,
     "metadata": {},
     "output_type": "execute_result"
    },
    {
     "data": {
      "image/png": "[encoded data removed]",
      "text/plain": [
       "<matplotlib.figure.Figure at 0x7f94fc244e10>"
      ]
     },
     "metadata": {},
     "output_type": "display_data"
    }
   ],
   "source": [
    "\n",
    "\n",
    "import matplotlib.pyplot as plt \n",
    "import numpy as np\n",
    "from scipy import integrate\n",
    "%matplotlib inline\n",
    "\n",
    "y0 = 0.1 \n",
    "ug = 0.5 \n",
    "tot = 12.5 \n",
    "stepsize = 10\n",
    "\n",
    "\n",
    "## using simple RK method\n",
    "t = np.linspace(0,tot,stepsize) # creating a time vector\n",
    "dt = t[1]-t[0] # establishing dt\n",
    "y = np.zeros(len(t)) # creating a Cell density vector \n",
    "y[0] = y0\n",
    "\n",
    "for i in range (1, len(t)):\n",
    "    y[i] = y[i-1] + ug*y[i-1]*dt\n",
    "\n",
    "## using analytical solution \n",
    "    X = np.exp(ug*(t))*y0\n",
    "    \n",
    "# plotting both in comparaison\n",
    "plt.xlabel('time,h')\n",
    "plt.ylabel('Cell density (g/L)')\n",
    "plt.title ('Comparing Analytical solution to RK')\n",
    "plt.plot(t,y,'-x',label='Numerical')\n",
    "plt.plot(t,X,'-or',label = 'Analytical')\n",
    "plt.legend()"
   ]
  },
  {
   "cell_type": "markdown",
   "metadata": {},
   "source": [
    "## Example: \n",
    "\n",
    "Suppose Ace Chemical Engineering (ACE) has a 500 L tank that has 50 g/L of NaCl. An inlet stream flows at 10 L/min and has a concentration of 2.5 g/L. ACE wants to empty the tank at 15L/min while keeping the inlet flow rate constant. How many minutes will it take for the tank to reach 30 g/L? \n"
   ]
  },
  {
   "cell_type": "markdown",
   "metadata": {},
   "source": [
    "The concentration balance with no reaction is written out as:\n",
    "\n",
    "$$  V\\frac{dC}{dt} = Q_{in}C_{in} - Q_{out}C_{out} $$  Where $ C_{out}  = C $ \n",
    "\n",
    "The known values are substituted in and the formula is rearranged to isolate $\\frac{dC}{dt} $\n",
    "\n",
    "$$ \\frac{dC}{dt} = \\frac{10*2.5}{500} -\\frac{15*C}{500}$$\n",
    "\n",
    "This can now be put into OdeInt to observe the curve."
   ]
  },
  {
   "cell_type": "code",
   "execution_count": 7,
   "metadata": {},
   "outputs": [
    {
     "data": {
      "text/plain": [
       "[<matplotlib.lines.Line2D at 0x7f94cf5041d0>]"
      ]
     },
     "execution_count": 7,
     "metadata": {},
     "output_type": "execute_result"
    },
    {
     "data": {
      "image/png": "[encoded data removed]",
      "text/plain": [
       "<matplotlib.figure.Figure at 0x7f94cf591e80>"
      ]
     },
     "metadata": {},
     "output_type": "display_data"
    }
   ],
   "source": [
    "\n",
    "C0 = 50 # g/L\n",
    "t = np.linspace(0,200,200) # minutes \n",
    "dt= t[1]-t[0]\n",
    "\n",
    "def dcdt(C,t):\n",
    "    return (10/500*2.5-15/500*C)\n",
    "\n",
    "sol  = integrate.odeint(dcdt,C0,t)\n",
    "\n",
    "\n",
    "# print(t)\n",
    "plt.plot(t,sol)"
   ]
  },
  {
   "cell_type": "code",
   "execution_count": 35,
   "metadata": {},
   "outputs": [
    {
     "name": "stdout",
     "output_type": "stream",
     "text": [
      "(array([8]), array([0]))\n",
      "[ 39.64118714]\n"
     ]
    }
   ],
   "source": [
    "\n",
    "\n",
    "#rudimentarily, the time that it will take to reach 40 g/L is presented here.\n",
    "\n",
    "h = np.where((sol>=39) & (sol<=40))\n",
    "print (h)\n",
    "print(sol[h])\n",
    "\n",
    "\n"
   ]
  },
  {
   "cell_type": "markdown",
   "metadata": {},
   "source": [
    "Therefore, it will take approximately 8 minutes for the tank to reach a concentration of 40 g/L"
   ]
  },
  {
   "cell_type": "code",
   "execution_count": null,
   "metadata": {},
   "outputs": [],
   "source": []
  },
  {
   "cell_type": "code",
   "execution_count": null,
   "metadata": {},
   "outputs": [],
   "source": []
  },
  {
   "cell_type": "code",
   "execution_count": 79,
   "metadata": {
    "collapsed": true
   },
   "outputs": [],
   "source": []
  },
  {
   "cell_type": "code",
   "execution_count": 80,
   "metadata": {},
   "outputs": [],
   "source": [
    "integrate.odeint?"
   ]
  },
  {
   "cell_type": "code",
   "execution_count": 124,
   "metadata": {},
   "outputs": [],
   "source": [
    "t = np.linspace(0,2,200)\n",
    "v0 =  8 \n",
    "alpha = 9*np.pi/180\n",
    "y0 = (0,1,v0*np.cos(alpha),v0*np.sin(alpha))"
   ]
  },
  {
   "cell_type": "code",
   "execution_count": 125,
   "metadata": {},
   "outputs": [],
   "source": [
    "sol = integrate.odeint(projectile_motion,y0,t)"
   ]
  },
  {
   "cell_type": "code",
   "execution_count": 126,
   "metadata": {},
   "outputs": [],
   "source": [
    "# plt.plot (t,sol[:,3])\n"
   ]
  },
  {
   "cell_type": "code",
   "execution_count": 127,
   "metadata": {},
   "outputs": [
    {
     "data": {
      "text/plain": [
       "[<matplotlib.lines.Line2D at 0x7f94ce7242b0>,\n",
       " <matplotlib.lines.Line2D at 0x7f94ce7244a8>,\n",
       " <matplotlib.lines.Line2D at 0x7f94ce7246a0>,\n",
       " <matplotlib.lines.Line2D at 0x7f94ce724898>]"
      ]
     },
     "execution_count": 127,
     "metadata": {},
     "output_type": "execute_result"
    },
    {
     "data": {
      "image/png": "[encoded data removed]",
      "text/plain": [
       "<matplotlib.figure.Figure at 0x7f94ce87cdd8>"
      ]
     },
     "metadata": {},
     "output_type": "display_data"
    }
   ],
   "source": [
    "plt.plot(t,sol)"
   ]
  },
  {
   "cell_type": "code",
   "execution_count": 115,
   "metadata": {},
   "outputs": [
    {
     "data": {
      "text/plain": [
       "6.123233995736766e-17"
      ]
     },
     "execution_count": 115,
     "metadata": {},
     "output_type": "execute_result"
    }
   ],
   "source": [
    "np.cos(alpha)"
   ]
  },
  {
   "cell_type": "code",
   "execution_count": null,
   "metadata": {
    "collapsed": true
   },
   "outputs": [],
   "source": []
  }
 ],
 "metadata": {
  "kernelspec": {
   "display_name": "Python 3",
   "language": "python",
   "name": "python3"
  },
  "language_info": {
   "codemirror_mode": {
    "name": "ipython",
    "version": 3
   },
   "file_extension": ".py",
   "mimetype": "text/x-python",
   "name": "python",
   "nbconvert_exporter": "python",
   "pygments_lexer": "ipython3",
   "version": "3.6.1"
  }
 },
 "nbformat": 4,
 "nbformat_minor": 2
}
