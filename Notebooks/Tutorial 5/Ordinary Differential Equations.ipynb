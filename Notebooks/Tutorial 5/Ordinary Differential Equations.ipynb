{
 "cells": [
  {
   "cell_type": "markdown",
   "metadata": {},
   "source": [
    "# Ordinary Differential Equations\n",
    "\n",
    "Differential equations are systems whose variables change with time. Mathematically, differentials are functions that contain derivatives of itself. When these systems are integrated, they provide analytical  functions that are dependent with time. Integration of differentials can be performed by calculus, or numerically. \n",
    "\n",
    "INSERT image here \n",
    "\n",
    "Ordinary differential equations (ODES) are equations that have a single dependent variables. Partial differential equations are equations that are dependent on 2 or more variables. Furthermore, the order of a differential equation is characterized by the highest derivative of an independent variable. \n",
    "\n",
    "Biological cell growth is a first order differential that describes the exponential increase of biomass concentration  (X) accumulation over time (assuming $ \\mu _g  $  is constant ). \n",
    "\n",
    "\n",
    "$$ \\frac{dX}{dt} = \\mu_g X  $$\n",
    "\n",
    "The Navier-Stokes equations in contrast, are 2nd order partial differentials describing particle position of a fluid as a function of the derivatives of speed, sheer, time and, pressure. \n",
    "\n",
    "$$ \\rho \\big( \\frac{du}{dt} +u \\frac{du}{dx} + v \\frac{dv}{dy} + w \\frac{dw}{dz} \\big) = - \\frac{dP}{dx} + \\mu \\big( \\frac{d^2u}{dx^2} + \\frac{d^2v}{dy^2} +  \\frac{d^2w}{dz^2}    \\big)  $$ \n",
    "\n",
    "The scope of this tutorial focuses on  first order, ordinary differential equations. \n",
    "\n"
   ]
  },
  {
   "cell_type": "markdown",
   "metadata": {},
   "source": [
    "When ODE's are solved, some have an analytical solution. For example, solving the Biomass growth equation gives this analytical solution.\n",
    "\n",
    "$$ X = X_0 e^{\\mu _g (t-t_0)} $$\n",
    "\n",
    "Where $ X_0 $  and $ t_0 $  are initial conditions of the cell concentration and lag time.  \n",
    "\n",
    "If you have worked with numerical methods you may have come across solving differentials by using this form:\n",
    "\n",
    "$$ Value_{new} = Value_{old} + slope*stepsize  $$ \n",
    "\n",
    "\n",
    "$$  \\frac{dX}{dt} = \\mu_g X$$\n",
    "\n",
    "$$ \\frac{X_{i+1}-X_i}{t_{i+1} - t{i}} = \\mu_g X_i  $$\n",
    "\n",
    "$$ X_{i+1}  =   X_{i}+ \\mu _g X_i  \\Delta t $$ "
   ]
  },
  {
   "cell_type": "code",
   "execution_count": null,
   "metadata": {},
   "outputs": [],
   "source": []
  }
 ],
 "metadata": {
  "kernelspec": {
   "display_name": "Python 3",
   "language": "python",
   "name": "python3"
  },
  "language_info": {
   "codemirror_mode": {
    "name": "ipython",
    "version": 3
   },
   "file_extension": ".py",
   "mimetype": "text/x-python",
   "name": "python",
   "nbconvert_exporter": "python",
   "pygments_lexer": "ipython3",
   "version": "3.6.6"
  }
 },
 "nbformat": 4,
 "nbformat_minor": 2
}
