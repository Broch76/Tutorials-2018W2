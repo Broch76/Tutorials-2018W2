{
 "cells": [
  {
   "cell_type": "markdown",
   "metadata": {},
   "source": [
    "# Ordinary Differential Equations\n",
    "\n",
    "Differential equations are systems whose variables change with time. Mathematically, differentials are functions that contain derivatives of itself. When these systems are integrated, they provide analytical  functions that are dependent with time. Integration of differentials can be performed by calculus, or numerically. \n",
    "\n",
    "INSERT image here)\n",
    "\n",
    "Ordinary differential equations (ODES) are equations that have a single dependent variables. Partial differential equations are equations that are dependent on 2 or more variables. Furthermore, the order of a differential equation is characterized by the highest derivative of an independent variable. \n",
    "\n",
    "Biological cell growth is a first order differential that describes the exponential increase of biomass concentration  (X) accumulation over time (assuming $ \\mu _g  $  is constant ). \n",
    "\n",
    "\n",
    "$$ \\frac{dX}{dt} = \\mu_g X  $$\n",
    "\n",
    "The Navier-Stokes equations in contrast, are 2nd order partial differentials describing particle position of a fluid as a function of the derivatives of speed, sheer, time and, pressure. \n",
    "\n",
    "$$ \\rho \\big( \\frac{du}{dt} +u \\frac{du}{dx} + v \\frac{dv}{dy} + w \\frac{dw}{dz} \\big) = - \\frac{dP}{dx} + \\mu \\big( \\frac{d^2u}{dx^2} + \\frac{d^2v}{dy^2} +  \\frac{d^2w}{dz^2}    \\big)  $$ \n",
    "\n",
    "The scope of this tutorial focuses on  first order, ordinary differential equations. \n",
    "\n"
   ]
  },
  {
   "cell_type": "markdown",
   "metadata": {},
   "source": [
    "When ODE's are solved, some have an analytical solution. For example, solving the Biomass growth equation gives this analytical solution.\n",
    "\n",
    "$$ X = X_0 e^{\\mu _g (t-t_0)} $$\n",
    "\n",
    "Where $ X_0 $  and $ t_0 $  are initial conditions of the cell concentration and lag time.  \n",
    "\n",
    "If you have worked with numerical methods in Excel, you may have come across solving differentials by using this form:\n",
    "\n",
    "\n",
    "$$  \\frac{dX}{dt} = \\mu_g X$$\n",
    "\n",
    "$$ \\frac{X_{i+1}-X_i}{t_{i+1} - t{i}} = \\mu_g X_i  $$\n",
    "\n",
    "$$ X_{i+1}  =   X_{i}+ \\mu _g X_i  \\Delta t $$ \n",
    "\n",
    "\n",
    "This form of discretizing is the basis of numerical methods for ODE's and are called *single step* or *Runge Kutta* methods.\n",
    "\n",
    "$$ Value_{new} = Value_{old} + slope*stepsize  $$  \n",
    "\n",
    "$$ y_{i+1}  = y_i + \\phi h$$\n",
    "\n",
    "Well studied methods have minimized the error in the phi term to provide highly accurate ODE integrators. "
   ]
  },
  {
   "cell_type": "code",
   "execution_count": 57,
   "metadata": {},
   "outputs": [
    {
     "name": "stderr",
     "output_type": "stream",
     "text": [
      "/home/toto/anaconda3/lib/python3.6/importlib/_bootstrap.py:219: RuntimeWarning: numpy.dtype size changed, may indicate binary incompatibility. Expected 96, got 88\n",
      "  return f(*args, **kwds)\n"
     ]
    },
    {
     "data": {
      "text/plain": [
       "<matplotlib.legend.Legend at 0x7eff6cdfdda0>"
      ]
     },
     "execution_count": 57,
     "metadata": {},
     "output_type": "execute_result"
    },
    {
     "data": {
      "image/png": "[encoded data removed]",
      "text/plain": [
       "<matplotlib.figure.Figure at 0x7eff72963ef0>"
      ]
     },
     "metadata": {},
     "output_type": "display_data"
    }
   ],
   "source": [
    "import matplotlib.pyplot as plt \n",
    "import numpy as np\n",
    "from scipy import integrate\n",
    "%matplotlib inline\n",
    "\n",
    "y0 = 0.1 \n",
    "ug = 0.5 \n",
    "tot = 12.5 \n",
    "stepsize = 10\n",
    "\n",
    "\n",
    "## using simple RK method\n",
    "t = np.linspace(0,tot,stepsize) # creating a time vector\n",
    "dt = t[1]-t[0] # establishing dt\n",
    "y = np.zeros(len(t)) # creating a Cell density vector \n",
    "y[0] = y0\n",
    "\n",
    "for i in range (1, len(t)):\n",
    "    y[i] = y[i-1] + ug*y[i-1]*dt\n",
    "\n",
    "## using analytical solution \n",
    "    X = np.exp(ug*(t))*y0\n",
    "    \n",
    "# plotting both in comparaison\n",
    "plt.xlabel('time,h')\n",
    "plt.ylabel('Cell density (g/L)')\n",
    "plt.title ('Comparing Analytical solution to RK')\n",
    "plt.plot(t,y,'-x',label='Numerical')\n",
    "plt.plot(t,X,'-or',label = 'Analytical')\n",
    "plt.legend()"
   ]
  },
  {
   "cell_type": "code",
   "execution_count": 66,
   "metadata": {},
   "outputs": [
    {
     "name": "stdout",
     "output_type": "stream",
     "text": [
      "[[50.        ]\n",
      " [10.71431026]\n",
      " [10.71428571]\n",
      " [10.71428571]\n",
      " [10.71428571]\n",
      " [10.71428571]\n",
      " [10.71428571]\n",
      " [10.71428571]\n",
      " [10.71428571]\n",
      " [10.71428571]\n",
      " [10.71428571]\n",
      " [10.71428571]\n",
      " [10.71428571]\n",
      " [10.71428571]\n",
      " [10.71428571]\n",
      " [10.71428571]\n",
      " [10.71428571]\n",
      " [10.71428571]\n",
      " [10.71428571]\n",
      " [10.71428571]\n",
      " [10.71428571]\n",
      " [10.71428571]\n",
      " [10.71428571]\n",
      " [10.71428571]\n",
      " [10.71428571]\n",
      " [10.71428571]\n",
      " [10.71428571]\n",
      " [10.71428571]\n",
      " [10.71428571]\n",
      " [10.71428571]\n",
      " [10.71428571]\n",
      " [10.71428571]\n",
      " [10.71428571]\n",
      " [10.71428571]\n",
      " [10.71428571]\n",
      " [10.71428571]\n",
      " [10.71428571]\n",
      " [10.71428571]\n",
      " [10.71428571]\n",
      " [10.71428571]\n",
      " [10.71428571]\n",
      " [10.71428571]\n",
      " [10.71428571]\n",
      " [10.71428571]\n",
      " [10.71428571]\n",
      " [10.71428571]\n",
      " [10.71428571]\n",
      " [10.71428571]\n",
      " [10.71428571]\n",
      " [10.71428571]]\n"
     ]
    },
    {
     "data": {
      "text/plain": [
       "[<matplotlib.lines.Line2D at 0x7eff6c43c320>]"
      ]
     },
     "execution_count": 66,
     "metadata": {},
     "output_type": "execute_result"
    },
    {
     "data": {
      "image/png": "[encoded data removed]",
      "text/plain": [
       "<matplotlib.figure.Figure at 0x7eff6c586ef0>"
      ]
     },
     "metadata": {},
     "output_type": "display_data"
    }
   ],
   "source": [
    "C0 = 50 # g/L\n",
    "t = np.linspace(0,200) # minutes \n",
    "dt= t[1]-t[0]\n",
    "\n",
    "def dcdt(C,t):\n",
    "    return (37.5 - 3.5*C)\n",
    "\n",
    "C  = integrate.odeint(dcdt,C0,t)\n",
    "print(C)\n",
    "plt.plot(t,C)"
   ]
  },
  {
   "cell_type": "code",
   "execution_count": null,
   "metadata": {},
   "outputs": [],
   "source": []
  }
 ],
 "metadata": {
  "kernelspec": {
   "display_name": "Python 3",
   "language": "python",
   "name": "python3"
  },
  "language_info": {
   "codemirror_mode": {
    "name": "ipython",
    "version": 3
   },
   "file_extension": ".py",
   "mimetype": "text/x-python",
   "name": "python",
   "nbconvert_exporter": "python",
   "pygments_lexer": "ipython3",
   "version": "3.6.4"
  }
 },
 "nbformat": 4,
 "nbformat_minor": 2
}
