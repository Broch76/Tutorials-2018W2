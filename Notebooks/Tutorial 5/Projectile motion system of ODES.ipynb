{
 "cells": [
  {
   "cell_type": "code",
   "execution_count": 5,
   "metadata": {
    "collapsed": true
   },
   "outputs": [],
   "source": [
    "import numpy as np \n",
    "from scipy import integrate\n",
    "import matplotlib.pyplot as plt \n",
    "% matplotlib inline"
   ]
  },
  {
   "cell_type": "code",
   "execution_count": 6,
   "metadata": {
    "collapsed": true
   },
   "outputs": [],
   "source": [
    "def projectile_motion(y,t ):\n",
    "    \"\"\"This function returns the 4 derivatives in respect to projectile motion, \n",
    "    y is an array that contains 4 input values \n",
    "    The inputs are 4 values are:\n",
    "    1. x position of hte projectile\n",
    "    2. y position of the projectile\n",
    "    3. x component of the velocity of the projectile\n",
    "    4. y component of the velocity of the projectile\n",
    "    \n",
    "    \n",
    "    the derivatives take on this order\n",
    "    1. the change in position x as a function of time,\n",
    "    2. the change in the y position as a function of time\n",
    "    3. the change in the x velocity as a funciton of time, \n",
    "    4. the change in the y velocity as a function of time \"\"\"\n",
    "    dydt = np.zeros_like(y)\n",
    "    dydt[0] = y[2] \n",
    "    dydt[1] = y[3]\n",
    "    dydt[2] = 0 # there is no change in teh x velocity as a function of time \n",
    "    dydt[3] =  -9.8# the constant of the change in y velocity is  gravity\n",
    "    return dydt"
   ]
  },
  {
   "cell_type": "code",
   "execution_count": 7,
   "metadata": {},
   "outputs": [],
   "source": [
    "t = np.linspace(0,2,200)\n",
    "v0 =  8 \n",
    "alpha = 9*np.pi/180\n",
    "y0 = (0,1,v0*np.cos(alpha),v0*np.sin(alpha))"
   ]
  },
  {
   "cell_type": "code",
   "execution_count": 8,
   "metadata": {},
   "outputs": [
    {
     "data": {
      "text/plain": [
       "[<matplotlib.lines.Line2D at 0x7fd3dfaab080>,\n",
       " <matplotlib.lines.Line2D at 0x7fd3dfaab240>,\n",
       " <matplotlib.lines.Line2D at 0x7fd3dfaab438>,\n",
       " <matplotlib.lines.Line2D at 0x7fd3dfaab630>]"
      ]
     },
     "execution_count": 8,
     "metadata": {},
     "output_type": "execute_result"
    },
    {
     "data": {
      "image/png": "[encoded data removed]",
      "text/plain": [
       "<matplotlib.figure.Figure at 0x7fd41014cef0>"
      ]
     },
     "metadata": {},
     "output_type": "display_data"
    }
   ],
   "source": [
    "sol = integrate.odeint(projectile_motion,y0,t)\n",
    "plt.plot(t,sol)"
   ]
  },
  {
   "cell_type": "code",
   "execution_count": null,
   "metadata": {
    "collapsed": true
   },
   "outputs": [],
   "source": [
    "np.cos(alpha)"
   ]
  }
 ],
 "metadata": {
  "kernelspec": {
   "display_name": "Python 3",
   "language": "python",
   "name": "python3"
  },
  "language_info": {
   "codemirror_mode": {
    "name": "ipython",
    "version": 3
   },
   "file_extension": ".py",
   "mimetype": "text/x-python",
   "name": "python",
   "nbconvert_exporter": "python",
   "pygments_lexer": "ipython3",
   "version": "3.6.1"
  }
 },
 "nbformat": 4,
 "nbformat_minor": 2
}
